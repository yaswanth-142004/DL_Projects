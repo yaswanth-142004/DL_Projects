{
 "cells": [
  {
   "cell_type": "code",
   "execution_count": 6,
   "metadata": {},
   "outputs": [],
   "source": [
    "# Step 1: Import Libraries and Load the Model\n",
    "import numpy as np\n",
    "import tensorflow as tf\n",
    "from tensorflow.keras.datasets import imdb\n",
    "from tensorflow.keras.preprocessing import sequence\n",
    "from tensorflow.keras.models import load_model"
   ]
  },
  {
   "cell_type": "code",
   "execution_count": 7,
   "metadata": {},
   "outputs": [],
   "source": [
    "\n",
    "# Load the IMDB dataset word index\n",
    "word_index = imdb.get_word_index()\n",
    "reverse_word_index = {value: key for key, value in word_index.items()}"
   ]
  },
  {
   "cell_type": "code",
   "execution_count": 9,
   "metadata": {},
   "outputs": [
    {
     "name": "stderr",
     "output_type": "stream",
     "text": [
      "<>:2: SyntaxWarning: invalid escape sequence '\\s'\n",
      "<>:2: SyntaxWarning: invalid escape sequence '\\s'\n",
      "C:\\Users\\HP\\AppData\\Local\\Temp\\ipykernel_7592\\2049283528.py:2: SyntaxWarning: invalid escape sequence '\\s'\n",
      "  model = load_model('Basic_Rnn_project\\simple_rnn_model.keras')\n"
     ]
    },
    {
     "data": {
      "text/html": [
       "<pre style=\"white-space:pre;overflow-x:auto;line-height:normal;font-family:Menlo,'DejaVu Sans Mono',consolas,'Courier New',monospace\"><span style=\"font-weight: bold\">Model: \"sequential_2\"</span>\n",
       "</pre>\n"
      ],
      "text/plain": [
       "\u001b[1mModel: \"sequential_2\"\u001b[0m\n"
      ]
     },
     "metadata": {},
     "output_type": "display_data"
    },
    {
     "data": {
      "text/html": [
       "<pre style=\"white-space:pre;overflow-x:auto;line-height:normal;font-family:Menlo,'DejaVu Sans Mono',consolas,'Courier New',monospace\">┏━━━━━━━━━━━━━━━━━━━━━━━━━━━━━━━━━┳━━━━━━━━━━━━━━━━━━━━━━━━┳━━━━━━━━━━━━━━━┓\n",
       "┃<span style=\"font-weight: bold\"> Layer (type)                    </span>┃<span style=\"font-weight: bold\"> Output Shape           </span>┃<span style=\"font-weight: bold\">       Param # </span>┃\n",
       "┡━━━━━━━━━━━━━━━━━━━━━━━━━━━━━━━━━╇━━━━━━━━━━━━━━━━━━━━━━━━╇━━━━━━━━━━━━━━━┩\n",
       "│ embedding_2 (<span style=\"color: #0087ff; text-decoration-color: #0087ff\">Embedding</span>)         │ (<span style=\"color: #00af00; text-decoration-color: #00af00\">32</span>, <span style=\"color: #00af00; text-decoration-color: #00af00\">500</span>, <span style=\"color: #00af00; text-decoration-color: #00af00\">128</span>)         │     <span style=\"color: #00af00; text-decoration-color: #00af00\">1,280,000</span> │\n",
       "├─────────────────────────────────┼────────────────────────┼───────────────┤\n",
       "│ simple_rnn_2 (<span style=\"color: #0087ff; text-decoration-color: #0087ff\">SimpleRNN</span>)        │ (<span style=\"color: #00af00; text-decoration-color: #00af00\">32</span>, <span style=\"color: #00af00; text-decoration-color: #00af00\">128</span>)              │        <span style=\"color: #00af00; text-decoration-color: #00af00\">32,896</span> │\n",
       "├─────────────────────────────────┼────────────────────────┼───────────────┤\n",
       "│ dense_2 (<span style=\"color: #0087ff; text-decoration-color: #0087ff\">Dense</span>)                 │ (<span style=\"color: #00af00; text-decoration-color: #00af00\">32</span>, <span style=\"color: #00af00; text-decoration-color: #00af00\">1</span>)                │           <span style=\"color: #00af00; text-decoration-color: #00af00\">129</span> │\n",
       "└─────────────────────────────────┴────────────────────────┴───────────────┘\n",
       "</pre>\n"
      ],
      "text/plain": [
       "┏━━━━━━━━━━━━━━━━━━━━━━━━━━━━━━━━━┳━━━━━━━━━━━━━━━━━━━━━━━━┳━━━━━━━━━━━━━━━┓\n",
       "┃\u001b[1m \u001b[0m\u001b[1mLayer (type)                   \u001b[0m\u001b[1m \u001b[0m┃\u001b[1m \u001b[0m\u001b[1mOutput Shape          \u001b[0m\u001b[1m \u001b[0m┃\u001b[1m \u001b[0m\u001b[1m      Param #\u001b[0m\u001b[1m \u001b[0m┃\n",
       "┡━━━━━━━━━━━━━━━━━━━━━━━━━━━━━━━━━╇━━━━━━━━━━━━━━━━━━━━━━━━╇━━━━━━━━━━━━━━━┩\n",
       "│ embedding_2 (\u001b[38;5;33mEmbedding\u001b[0m)         │ (\u001b[38;5;34m32\u001b[0m, \u001b[38;5;34m500\u001b[0m, \u001b[38;5;34m128\u001b[0m)         │     \u001b[38;5;34m1,280,000\u001b[0m │\n",
       "├─────────────────────────────────┼────────────────────────┼───────────────┤\n",
       "│ simple_rnn_2 (\u001b[38;5;33mSimpleRNN\u001b[0m)        │ (\u001b[38;5;34m32\u001b[0m, \u001b[38;5;34m128\u001b[0m)              │        \u001b[38;5;34m32,896\u001b[0m │\n",
       "├─────────────────────────────────┼────────────────────────┼───────────────┤\n",
       "│ dense_2 (\u001b[38;5;33mDense\u001b[0m)                 │ (\u001b[38;5;34m32\u001b[0m, \u001b[38;5;34m1\u001b[0m)                │           \u001b[38;5;34m129\u001b[0m │\n",
       "└─────────────────────────────────┴────────────────────────┴───────────────┘\n"
      ]
     },
     "metadata": {},
     "output_type": "display_data"
    },
    {
     "data": {
      "text/html": [
       "<pre style=\"white-space:pre;overflow-x:auto;line-height:normal;font-family:Menlo,'DejaVu Sans Mono',consolas,'Courier New',monospace\"><span style=\"font-weight: bold\"> Total params: </span><span style=\"color: #00af00; text-decoration-color: #00af00\">3,939,077</span> (15.03 MB)\n",
       "</pre>\n"
      ],
      "text/plain": [
       "\u001b[1m Total params: \u001b[0m\u001b[38;5;34m3,939,077\u001b[0m (15.03 MB)\n"
      ]
     },
     "metadata": {},
     "output_type": "display_data"
    },
    {
     "data": {
      "text/html": [
       "<pre style=\"white-space:pre;overflow-x:auto;line-height:normal;font-family:Menlo,'DejaVu Sans Mono',consolas,'Courier New',monospace\"><span style=\"font-weight: bold\"> Trainable params: </span><span style=\"color: #00af00; text-decoration-color: #00af00\">1,313,025</span> (5.01 MB)\n",
       "</pre>\n"
      ],
      "text/plain": [
       "\u001b[1m Trainable params: \u001b[0m\u001b[38;5;34m1,313,025\u001b[0m (5.01 MB)\n"
      ]
     },
     "metadata": {},
     "output_type": "display_data"
    },
    {
     "data": {
      "text/html": [
       "<pre style=\"white-space:pre;overflow-x:auto;line-height:normal;font-family:Menlo,'DejaVu Sans Mono',consolas,'Courier New',monospace\"><span style=\"font-weight: bold\"> Non-trainable params: </span><span style=\"color: #00af00; text-decoration-color: #00af00\">0</span> (0.00 B)\n",
       "</pre>\n"
      ],
      "text/plain": [
       "\u001b[1m Non-trainable params: \u001b[0m\u001b[38;5;34m0\u001b[0m (0.00 B)\n"
      ]
     },
     "metadata": {},
     "output_type": "display_data"
    },
    {
     "data": {
      "text/html": [
       "<pre style=\"white-space:pre;overflow-x:auto;line-height:normal;font-family:Menlo,'DejaVu Sans Mono',consolas,'Courier New',monospace\"><span style=\"font-weight: bold\"> Optimizer params: </span><span style=\"color: #00af00; text-decoration-color: #00af00\">2,626,052</span> (10.02 MB)\n",
       "</pre>\n"
      ],
      "text/plain": [
       "\u001b[1m Optimizer params: \u001b[0m\u001b[38;5;34m2,626,052\u001b[0m (10.02 MB)\n"
      ]
     },
     "metadata": {},
     "output_type": "display_data"
    }
   ],
   "source": [
    "# Load the pre-trained model with ReLU activation\n",
    "model = load_model('Basic_Rnn_project\\simple_rnn_model.keras')\n",
    "model.summary()"
   ]
  },
  {
   "cell_type": "code",
   "execution_count": 10,
   "metadata": {},
   "outputs": [
    {
     "data": {
      "text/plain": [
       "[array([[-0.1709082 ,  0.16253534, -0.10751309, ..., -0.1878035 ,\n",
       "         -0.26348975, -0.23534681],\n",
       "        [-0.02826495,  0.03807111, -0.02944471, ..., -0.0425573 ,\n",
       "         -0.01359178,  0.01228078],\n",
       "        [-0.00519804,  0.00856096, -0.06830972, ..., -0.03542701,\n",
       "         -0.05361772,  0.00916019],\n",
       "        ...,\n",
       "        [-0.03474617,  0.02936632,  0.01742662, ..., -0.0084175 ,\n",
       "          0.0186226 ,  0.0027153 ],\n",
       "        [ 0.00044094, -0.00120953, -0.03400806, ...,  0.00656955,\n",
       "          0.03721078, -0.03741217],\n",
       "        [ 0.00196354,  0.00334289,  0.03611568, ..., -0.00638866,\n",
       "         -0.01721227,  0.01050107]], dtype=float32),\n",
       " array([[-0.12655531,  0.08591684,  0.00966798, ..., -0.05397774,\n",
       "          0.14417543,  0.16534008],\n",
       "        [ 0.09251849,  0.03163572, -0.08924147, ..., -0.1228058 ,\n",
       "          0.1108504 ,  0.02899205],\n",
       "        [ 0.00724389,  0.10405986,  0.14059357, ...,  0.15253967,\n",
       "         -0.11494817, -0.08625517],\n",
       "        ...,\n",
       "        [ 0.00384401,  0.10002507,  0.05952303, ...,  0.11312361,\n",
       "         -0.05911363,  0.01387972],\n",
       "        [ 0.09233383, -0.08370761,  0.16593121, ...,  0.04574043,\n",
       "          0.08236966,  0.10476712],\n",
       "        [-0.01789994,  0.03703261, -0.09566975, ...,  0.11163264,\n",
       "         -0.17505898,  0.13164416]], dtype=float32),\n",
       " array([[ 0.01646735, -0.07538228, -0.08637032, ...,  0.03882863,\n",
       "          0.00275064,  0.05121726],\n",
       "        [-0.14915931,  0.049925  , -0.13809256, ...,  0.10268983,\n",
       "         -0.08702619,  0.14571415],\n",
       "        [-0.03320523,  0.13337858,  0.04805515, ..., -0.00632817,\n",
       "         -0.16699529, -0.04862282],\n",
       "        ...,\n",
       "        [ 0.1206114 , -0.02282735, -0.03846223, ..., -0.04073558,\n",
       "         -0.03568155, -0.01412161],\n",
       "        [ 0.05003992,  0.04334747,  0.03187591, ...,  0.09505977,\n",
       "          0.04610959, -0.06003592],\n",
       "        [ 0.00551626,  0.17081687,  0.0599259 , ...,  0.05745063,\n",
       "          0.09467465, -0.19750577]], dtype=float32),\n",
       " array([ 0.01129318,  0.00908906, -0.01649947, -0.01646492, -0.00034541,\n",
       "        -0.01690557, -0.00421649,  0.02682119,  0.0003549 , -0.00857887,\n",
       "         0.00914274,  0.01475817,  0.01118459, -0.01089774, -0.01127256,\n",
       "         0.00949493, -0.00701917,  0.00384255, -0.01706238,  0.02124324,\n",
       "        -0.00999575,  0.00837964,  0.00027039, -0.02686059, -0.01178188,\n",
       "        -0.02927969, -0.00078998, -0.02056879,  0.0106269 ,  0.0094806 ,\n",
       "        -0.01193987,  0.02926939, -0.01692726,  0.00158013, -0.01787691,\n",
       "        -0.01359054, -0.01143992, -0.01058283, -0.01412737, -0.01724293,\n",
       "        -0.00657887, -0.00435943, -0.01334306,  0.00869056, -0.01719186,\n",
       "         0.0108262 , -0.0098691 , -0.00695373, -0.01148182, -0.0203039 ,\n",
       "         0.0058579 , -0.00405627, -0.01094904, -0.02369314,  0.02778287,\n",
       "         0.01778214, -0.00053667, -0.00487947, -0.02135744, -0.02614132,\n",
       "         0.00020149, -0.01010791, -0.02046832,  0.00902989, -0.00480548,\n",
       "         0.00117583, -0.02679689, -0.01016055, -0.01846317,  0.02202658,\n",
       "         0.00106908,  0.00282298, -0.00958469, -0.00313893, -0.00573007,\n",
       "        -0.00671071,  0.00968418, -0.01149397,  0.00841956, -0.02586274,\n",
       "        -0.0002912 , -0.02366914, -0.02049632, -0.01288827, -0.01300458,\n",
       "        -0.01099706, -0.02143148, -0.01716866, -0.01719978, -0.01961876,\n",
       "        -0.03435834, -0.02621428,  0.01679093, -0.00640649, -0.01454956,\n",
       "        -0.00841058, -0.02914835, -0.00491134, -0.002605  , -0.00436182,\n",
       "        -0.00211936, -0.0099466 , -0.00076039,  0.01304909,  0.02021755,\n",
       "        -0.03330601,  0.00142805, -0.02377687,  0.02217891, -0.01498747,\n",
       "         0.01229341, -0.01979163, -0.01959723, -0.02633114, -0.02670075,\n",
       "        -0.00529401,  0.03031464, -0.01623485, -0.01737999, -0.00909096,\n",
       "         0.00806519, -0.00179188, -0.01188154,  0.01276077, -0.0071159 ,\n",
       "        -0.01587132,  0.01471082, -0.01897034], dtype=float32),\n",
       " array([[ 0.06850884],\n",
       "        [ 0.1980675 ],\n",
       "        [ 0.23716491],\n",
       "        [ 0.05701262],\n",
       "        [ 0.43446493],\n",
       "        [ 0.1779332 ],\n",
       "        [-0.09755456],\n",
       "        [-0.22352915],\n",
       "        [-0.05115936],\n",
       "        [-0.18826872],\n",
       "        [ 0.14887398],\n",
       "        [-0.128955  ],\n",
       "        [ 0.02745737],\n",
       "        [-0.04132055],\n",
       "        [-0.7464665 ],\n",
       "        [-0.01369342],\n",
       "        [-0.09932163],\n",
       "        [-0.06812257],\n",
       "        [ 0.21622111],\n",
       "        [-0.17820892],\n",
       "        [ 0.23004518],\n",
       "        [-0.5777571 ],\n",
       "        [ 0.04827829],\n",
       "        [ 0.02186922],\n",
       "        [-0.033864  ],\n",
       "        [-0.01956686],\n",
       "        [-0.54737556],\n",
       "        [-0.17275727],\n",
       "        [-0.24185759],\n",
       "        [-0.15630288],\n",
       "        [ 0.10365162],\n",
       "        [ 0.04854579],\n",
       "        [ 0.2073515 ],\n",
       "        [-0.10750043],\n",
       "        [ 0.09324058],\n",
       "        [ 0.07560846],\n",
       "        [ 0.21653812],\n",
       "        [-0.72831744],\n",
       "        [ 0.22331613],\n",
       "        [-0.02528596],\n",
       "        [ 0.17271991],\n",
       "        [-0.43214324],\n",
       "        [-0.07016461],\n",
       "        [ 1.1865908 ],\n",
       "        [ 0.16035949],\n",
       "        [ 0.06904296],\n",
       "        [ 0.10155471],\n",
       "        [-0.07049035],\n",
       "        [-0.07808989],\n",
       "        [-0.5329445 ],\n",
       "        [ 0.2975287 ],\n",
       "        [ 0.30519336],\n",
       "        [ 0.01001349],\n",
       "        [ 0.16951244],\n",
       "        [-0.23188573],\n",
       "        [ 0.0046528 ],\n",
       "        [ 0.09448681],\n",
       "        [-0.05235264],\n",
       "        [ 0.12245216],\n",
       "        [ 0.22786842],\n",
       "        [-0.33147055],\n",
       "        [ 0.24695222],\n",
       "        [ 0.03677394],\n",
       "        [-0.00235367],\n",
       "        [-0.07009452],\n",
       "        [ 0.27096707],\n",
       "        [-0.09526138],\n",
       "        [ 0.07472744],\n",
       "        [ 0.01456595],\n",
       "        [-0.12758388],\n",
       "        [ 0.05685012],\n",
       "        [-0.07751726],\n",
       "        [ 0.0083212 ],\n",
       "        [ 0.19958699],\n",
       "        [ 0.12351041],\n",
       "        [ 0.13102911],\n",
       "        [ 0.618274  ],\n",
       "        [ 0.07571875],\n",
       "        [-0.0193754 ],\n",
       "        [ 0.13476783],\n",
       "        [-0.28555766],\n",
       "        [ 0.38691345],\n",
       "        [ 0.03438081],\n",
       "        [ 0.0618559 ],\n",
       "        [ 0.10743705],\n",
       "        [-0.4063236 ],\n",
       "        [ 0.15144241],\n",
       "        [ 0.21582814],\n",
       "        [ 0.16092707],\n",
       "        [ 0.16498005],\n",
       "        [ 0.1655822 ],\n",
       "        [ 0.18626626],\n",
       "        [-0.01620613],\n",
       "        [ 0.05141918],\n",
       "        [-0.05250442],\n",
       "        [ 0.06644059],\n",
       "        [ 0.13204743],\n",
       "        [ 0.12314691],\n",
       "        [-0.79458797],\n",
       "        [ 0.29362118],\n",
       "        [ 0.16270259],\n",
       "        [-0.9096649 ],\n",
       "        [-0.23149222],\n",
       "        [ 0.1386915 ],\n",
       "        [-0.2276728 ],\n",
       "        [ 0.04292655],\n",
       "        [-0.18244399],\n",
       "        [ 0.10585839],\n",
       "        [ 0.13407701],\n",
       "        [ 0.00386022],\n",
       "        [ 0.01633841],\n",
       "        [ 0.16627355],\n",
       "        [ 0.12954941],\n",
       "        [-0.04726699],\n",
       "        [ 0.01619175],\n",
       "        [-0.25671038],\n",
       "        [ 0.12805083],\n",
       "        [ 0.02621666],\n",
       "        [ 0.00771105],\n",
       "        [-0.05959018],\n",
       "        [ 0.03661818],\n",
       "        [ 0.27044308],\n",
       "        [-0.01683183],\n",
       "        [ 0.09451944],\n",
       "        [ 0.0166362 ],\n",
       "        [-0.24677745],\n",
       "        [ 0.09378492],\n",
       "        [ 0.08593146]], dtype=float32),\n",
       " array([0.6957568], dtype=float32)]"
      ]
     },
     "execution_count": 10,
     "metadata": {},
     "output_type": "execute_result"
    }
   ],
   "source": [
    "model.get_weights()"
   ]
  },
  {
   "cell_type": "code",
   "execution_count": 11,
   "metadata": {},
   "outputs": [],
   "source": [
    "# Step 2: Helper Functions\n",
    "# Function to decode reviews\n",
    "def decode_review(encoded_review):\n",
    "    return ' '.join([reverse_word_index.get(i - 3, '?') for i in encoded_review])\n",
    "\n",
    "# Function to preprocess user input\n",
    "def preprocess_text(text):\n",
    "    words = text.lower().split()\n",
    "    encoded_review = [word_index.get(word, 2) + 3 for word in words]\n",
    "    padded_review = sequence.pad_sequences([encoded_review], maxlen=500)\n",
    "    return padded_review"
   ]
  },
  {
   "cell_type": "code",
   "execution_count": 12,
   "metadata": {},
   "outputs": [],
   "source": [
    "### Prediction  function\n",
    "\n",
    "def predict_sentiment(review):\n",
    "    preprocessed_input=preprocess_text(review)\n",
    "\n",
    "    prediction=model.predict(preprocessed_input)\n",
    "\n",
    "    sentiment = 'Positive' if prediction[0][0] > 0.5 else 'Negative'\n",
    "    \n",
    "    return sentiment, prediction[0][0]\n",
    "\n"
   ]
  },
  {
   "cell_type": "code",
   "execution_count": 14,
   "metadata": {},
   "outputs": [
    {
     "name": "stdout",
     "output_type": "stream",
     "text": [
      "\u001b[1m1/1\u001b[0m \u001b[32m━━━━━━━━━━━━━━━━━━━━\u001b[0m\u001b[37m\u001b[0m \u001b[1m0s\u001b[0m 89ms/step\n",
      "Review: This movie is worse , not even interesting.\n",
      "Sentiment: Negative\n",
      "Prediction Score: 0.45236849784851074\n"
     ]
    }
   ],
   "source": [
    "# Step 4: User Input and Prediction\n",
    "# Example review for prediction\n",
    "example_review = \"This movie is worse , not even interesting.\"\n",
    "\n",
    "sentiment,score=predict_sentiment(example_review)\n",
    "\n",
    "print(f'Review: {example_review}')\n",
    "print(f'Sentiment: {sentiment}')\n",
    "print(f'Prediction Score: {score}')"
   ]
  },
  {
   "cell_type": "code",
   "execution_count": null,
   "metadata": {},
   "outputs": [],
   "source": []
  },
  {
   "cell_type": "code",
   "execution_count": null,
   "metadata": {},
   "outputs": [],
   "source": []
  },
  {
   "cell_type": "code",
   "execution_count": null,
   "metadata": {},
   "outputs": [],
   "source": []
  },
  {
   "cell_type": "code",
   "execution_count": null,
   "metadata": {},
   "outputs": [],
   "source": []
  },
  {
   "cell_type": "code",
   "execution_count": null,
   "metadata": {},
   "outputs": [],
   "source": []
  }
 ],
 "metadata": {
  "kernelspec": {
   "display_name": "base",
   "language": "python",
   "name": "python3"
  },
  "language_info": {
   "codemirror_mode": {
    "name": "ipython",
    "version": 3
   },
   "file_extension": ".py",
   "mimetype": "text/x-python",
   "name": "python",
   "nbconvert_exporter": "python",
   "pygments_lexer": "ipython3",
   "version": "3.12.7"
  }
 },
 "nbformat": 4,
 "nbformat_minor": 2
}
